{
 "cells": [
  {
   "cell_type": "code",
   "execution_count": 1,
   "metadata": {},
   "outputs": [],
   "source": [
    "import os\n",
    "import sys\n",
    "import json\n",
    "import time\n",
    "import collections\n",
    "import pandas as pd\n",
    "from datetime import datetime, timedelta\n",
    "import pymfe\n",
    "import glob\n",
    "import matplotlib.pyplot as plt \n",
    "import seaborn as sns\n",
    "from sklearn.cluster import KMeans \n",
    "from sklearn.metrics import silhouette_score\n",
    "from sklearn.preprocessing import MinMaxScaler"
   ]
  },
  {
   "cell_type": "code",
   "execution_count": 2,
   "metadata": {},
   "outputs": [],
   "source": [
    "cwd = os.getcwd()\n",
    "cwd_back = os.path.dirname(cwd)\n",
    "data_path = os.path.join(cwd_back, 'tcc_')"
   ]
  },
  {
   "cell_type": "code",
   "execution_count": 7,
   "metadata": {},
   "outputs": [
    {
     "name": "stdout",
     "output_type": "stream",
     "text": [
      "C:\\Users\\danie\\Documents\\tcc_\\data\\Iris.csv\n",
      "C:\\Users\\danie\\Documents\\tcc_\\data\\Iris1.csv\n"
     ]
    }
   ],
   "source": [
    "data_list = os.path.join(data_path, 'data')\n",
    "files2upload_list = [item for item in os.listdir(data_list) if '.parquet' in item \\\n",
    "                              or '.csv' in item or '.data' in item]\n",
    "\n",
    "all_files = glob.glob(data_list + \"/*.csv\")\n",
    "\n",
    "files = []\n",
    "i = 0\n",
    "for file_ in all_files:\n",
    "    filepath_ = os.path.join(data_path, 'data', file_)\n",
    "    files.append(pd.read_csv(file_,encoding = \"ISO-8859-1\", decimal=\",\", header=0))\n",
    "    #dataset = pd.read_csv(\"./iris.data\", encoding = \"ISO-8859-1\", decimal=\",\", header=None, names=headers)\n",
    "    print(filepath_)"
   ]
  },
  {
   "cell_type": "code",
   "execution_count": 54,
   "metadata": {},
   "outputs": [
    {
     "data": {
      "text/plain": [
       "Id               float64\n",
       "SepalLengthCm    float64\n",
       "SepalWidthCm     float64\n",
       "PetalLengthCm    float64\n",
       "PetalWidthCm      object\n",
       "Species           object\n",
       "dtype: object"
      ]
     },
     "execution_count": 54,
     "metadata": {},
     "output_type": "execute_result"
    }
   ],
   "source": [
    "file_.dtypes"
   ]
  },
  {
   "cell_type": "code",
   "execution_count": 132,
   "metadata": {},
   "outputs": [
    {
     "name": "stdout",
     "output_type": "stream",
     "text": [
      "KMeans(n_clusters=3, random_state=0)\n",
      "[0 0 0 0 0 0 0 0 0 0 0 0 0 0 0 0 0 0 0 0 0 0 0 0 0 0 0 0 0 0 0 0 0 0 0 0 0\n",
      " 0 0 0 0 0 0 0 0 0 0 0 0 0 2 2 2 2 2 2 2 2 2 2 2 2 2 2 2 2 2 2 2 2 2 2 2 2\n",
      " 2 2 2 2 2 2 2 2 2 2 2 2 2 2 2 2 2 2 2 2 2 2 2 2 2 2 1 1 1 1 1 1 1 1 1 1 1\n",
      " 1 1 1 1 1 1 1 1 1 1 1 1 1 1 1 1 1 1 1 1 1 1 1 1 1 1 1 1 1 1 1 1 1 1 1 1 1\n",
      " 1 1]\n"
     ]
    }
   ],
   "source": [
    "filesdf=[]\n",
    "col_ = []\n",
    "X_clustered = []\n",
    "i = 0\n",
    "for file_ in files:\n",
    "    filesdf.append(pd.DataFrame(file_))\n",
    "    col_.append(len(df.axes[1])-2)\n",
    "    x.append(df.iloc[:, 0:col_[i]])\n",
    "    y.append(df.iloc[:, col_[i]])\n",
    "    dataset_new = df.iloc[:, 0:col_[i]]\n",
    "    limit = int((dataset_new.shape[0]//2)**0.5)\n",
    "    # determing number of clusters\n",
    "    # using silhouette score method\n",
    "   \n",
    "    score = []\n",
    "    \n",
    "    for k in range(2, limit):\n",
    "        model = KMeans(n_clusters=k)\n",
    "        model.fit(dataset_new)\n",
    "        pred = model.predict(dataset_new)\n",
    "        score.append(silhouette_score(dataset_new, pred))\n",
    "   \n",
    "    z=2\n",
    "    for score_ in score:\n",
    "        max_score = max(score)\n",
    "        if(score_== max_score):\n",
    "            z=z+1\n",
    "            k = z\n",
    "\n",
    "\n",
    "    kmeans = (KMeans(n_clusters=k, random_state=0).fit(X))\n",
    "    X_clustered.append(kmeans.fit_predict(X))\n",
    "   \n",
    "print(kmeans)\n",
    "print(X_clustered[1])\n",
    "\n"
   ]
  },
  {
   "cell_type": "code",
   "execution_count": 25,
   "metadata": {},
   "outputs": [
    {
     "name": "stdout",
     "output_type": "stream",
     "text": [
      "Id               float64\n",
      "SepalLengthCm    float64\n",
      "SepalWidthCm     float64\n",
      "PetalLengthCm    float64\n",
      "PetalWidthCm      object\n",
      "Species           object\n",
      "dtype: object\n",
      "Id               float64\n",
      "SepalLengthCm    float64\n",
      "SepalWidthCm     float64\n",
      "PetalLengthCm    float64\n",
      "PetalWidthCm      object\n",
      "Species           object\n",
      "dtype: object\n"
     ]
    }
   ],
   "source": [
    "for df in filesdf:\n",
    "    print(df.dtypes)"
   ]
  },
  {
   "cell_type": "code",
   "execution_count": 38,
   "metadata": {},
   "outputs": [
    {
     "name": "stdout",
     "output_type": "stream",
     "text": [
      "        Id  SepalLengthCm  SepalWidthCm  PetalLengthCm PetalWidthCm\n",
      "0      1.0            5.1           3.5            1.4          0.2\n",
      "1      2.0            4.9           3.0            1.4          0.2\n",
      "2      3.0            4.7           3.2            1.3          0.2\n",
      "3      4.0            4.6           3.1            1.5          0.2\n",
      "4      5.0            5.0           3.6            1.4          0.2\n",
      "..     ...            ...           ...            ...          ...\n",
      "145  146.0            6.7           3.0            5.2          2.3\n",
      "146  147.0            6.3           2.5            5.0          1.9\n",
      "147  148.0            6.5           3.0            5.2          2.0\n",
      "148  149.0            6.2           3.4            5.4          2.3\n",
      "149  150.0            5.9           3.0            5.1          1.8\n",
      "\n",
      "[150 rows x 5 columns]\n",
      "0         Iris-setosa\n",
      "1         Iris-setosa\n",
      "2         Iris-setosa\n",
      "3         Iris-setosa\n",
      "4         Iris-setosa\n",
      "            ...      \n",
      "145    Iris-virginica\n",
      "146    Iris-virginica\n",
      "147    Iris-virginica\n",
      "148    Iris-virginica\n",
      "149    Iris-virginica\n",
      "Name: Species, Length: 150, dtype: object\n"
     ]
    }
   ],
   "source": []
  },
  {
   "cell_type": "code",
   "execution_count": 39,
   "metadata": {},
   "outputs": [
    {
     "data": {
      "text/plain": [
       "6"
      ]
     },
     "execution_count": 39,
     "metadata": {},
     "output_type": "execute_result"
    }
   ],
   "source": []
  },
  {
   "cell_type": "code",
   "execution_count": null,
   "metadata": {},
   "outputs": [],
   "source": []
  }
 ],
 "metadata": {
  "kernelspec": {
   "display_name": "Python 3 (ipykernel)",
   "language": "python",
   "name": "python3"
  },
  "language_info": {
   "codemirror_mode": {
    "name": "ipython",
    "version": 3
   },
   "file_extension": ".py",
   "mimetype": "text/x-python",
   "name": "python",
   "nbconvert_exporter": "python",
   "pygments_lexer": "ipython3",
   "version": "3.8.11"
  }
 },
 "nbformat": 4,
 "nbformat_minor": 4
}
